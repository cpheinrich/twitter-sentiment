{
 "cells": [
  {
   "cell_type": "code",
   "execution_count": 1,
   "metadata": {
    "collapsed": false
   },
   "outputs": [
    {
     "name": "stderr",
     "output_type": "stream",
     "text": [
      "/Users/chrisheinrich/anaconda/envs/deep/lib/python3.5/site-packages/h5py/__init__.py:36: FutureWarning: Conversion of the second argument of issubdtype from `float` to `np.floating` is deprecated. In future, it will be treated as `np.float64 == np.dtype(float).type`.\n",
      "  from ._conv import register_converters as _register_converters\n",
      "Using TensorFlow backend.\n",
      "/Users/chrisheinrich/anaconda/envs/deep/lib/python3.5/importlib/_bootstrap.py:222: RuntimeWarning: compiletime version 3.6 of module 'tensorflow.python.framework.fast_tensor_util' does not match runtime version 3.5\n",
      "  return f(*args, **kwds)\n"
     ]
    },
    {
     "data": {
      "text/plain": [
       "'2.1.5'"
      ]
     },
     "execution_count": 1,
     "metadata": {},
     "output_type": "execute_result"
    }
   ],
   "source": [
    "import keras\n",
    "keras.__version__"
   ]
  },
  {
   "cell_type": "code",
   "execution_count": 2,
   "metadata": {
    "collapsed": false
   },
   "outputs": [
    {
     "name": "stdout",
     "output_type": "stream",
     "text": [
      "['sentiment', 'text']\n",
      "5250\n"
     ]
    }
   ],
   "source": [
    "import os\n",
    "\n",
    "home_dir = os.getcwd()\n",
    "fname = os.path.join(home_dir,'data/train_data.csv')\n",
    "\n",
    "f = open(fname)\n",
    "data = f.read()\n",
    "f.close()\n",
    "\n",
    "lines = data.split('\\n')\n",
    "header = lines[0].split(',')\n",
    "lines = lines[1:]\n",
    "lines = lines[:-1]\n",
    "\n",
    "print(header)\n",
    "print(len(lines))"
   ]
  },
  {
   "cell_type": "markdown",
   "metadata": {},
   "source": [
    "### Exploring the dataset\n"
   ]
  },
  {
   "cell_type": "code",
   "execution_count": 3,
   "metadata": {
    "collapsed": false
   },
   "outputs": [
    {
     "name": "stdout",
     "output_type": "stream",
     "text": [
      "[76, 473, 3287, 1062, 352]\n",
      "5250\n",
      "5250\n",
      "A sample tweet: Autonomous vehicles could reduce traffic fatalities by 90%...I'm in!\n",
      "Has sentiment: 4\n"
     ]
    }
   ],
   "source": [
    "sents = [0,0,0,0,0]\n",
    "labels = []\n",
    "texts = []\n",
    "for line in lines:\n",
    "    sent = int(line.split(',')[0])\n",
    "    tweet = line.split(',')[1]\n",
    "    sents[sent -1] +=1\n",
    "    texts.append(tweet)\n",
    "    labels.append(sent-1) #data is labeled 1-5, so we shift by 1 so it starts with 0\n",
    "    \n",
    "print(sents)\n",
    "print(len(labels))\n",
    "print(len(texts))\n",
    "\n",
    "print(\"A sample tweet: \" + texts[6] )\n",
    "print(\"Has sentiment: \" + str(labels[6]))"
   ]
  },
  {
   "cell_type": "markdown",
   "metadata": {},
   "source": [
    "### Tokenize the data\n",
    "\n",
    "We first vectorize the data we collected and prepare a training and validation split."
   ]
  },
  {
   "cell_type": "code",
   "execution_count": 4,
   "metadata": {
    "collapsed": false
   },
   "outputs": [
    {
     "name": "stdout",
     "output_type": "stream",
     "text": [
      "Found 10982 unique tokens.\n"
     ]
    },
    {
     "data": {
      "text/plain": [
       "4"
      ]
     },
     "execution_count": 4,
     "metadata": {},
     "output_type": "execute_result"
    }
   ],
   "source": [
    "from keras.preprocessing.text import Tokenizer\n",
    "import numpy as np\n",
    "\n",
    "maxlen = 20 # We cut the tweet after 20 words (most are shorter than this anyway)\n",
    "training_samples = 4000\n",
    "validation_samples = len(labels) - training_samples\n",
    "max_words = 10000\n",
    "\n",
    "tokenizer = Tokenizer(num_words=max_words)\n",
    "tokenizer.fit_on_texts(texts)\n",
    "sequences = tokenizer.texts_to_sequences(texts)\n",
    "\n",
    "word_index = tokenizer.word_index\n",
    "print('Found %s unique tokens.' % len(word_index))\n",
    "\n",
    "x_train = sequences[:training_samples]\n",
    "y_train = labels[:training_samples]\n",
    "\n",
    "x_val = sequences[training_samples: training_samples + validation_samples]\n",
    "y_val = labels[training_samples: training_samples + validation_samples]\n",
    "y_train[0]"
   ]
  },
  {
   "cell_type": "markdown",
   "metadata": {},
   "source": [
    "### Vectorize the data\n"
   ]
  },
  {
   "cell_type": "code",
   "execution_count": 5,
   "metadata": {
    "collapsed": true
   },
   "outputs": [],
   "source": [
    "import numpy as np\n",
    "\n",
    "def vectorize_sequences(sequences, dimension=10000):\n",
    "    # Create an all-zero matrix of shape (len(sequences), dimension)\n",
    "    results = np.zeros((len(sequences), dimension))\n",
    "    for i, sequence in enumerate(sequences):\n",
    "        results[i, sequence] = 1  # set specific indices of results[i] to 1s\n",
    "    return results\n",
    "\n",
    "# Our vectorized training data\n",
    "x_train = vectorize_sequences(x_train)\n",
    "# Our vectorized test data\n",
    "x_val = vectorize_sequences(x_val)\n",
    "        "
   ]
  },
  {
   "cell_type": "code",
   "execution_count": 6,
   "metadata": {
    "collapsed": false
   },
   "outputs": [
    {
     "data": {
      "text/plain": [
       "array([0., 0., 1., ..., 0., 0., 0.])"
      ]
     },
     "execution_count": 6,
     "metadata": {},
     "output_type": "execute_result"
    }
   ],
   "source": [
    "x_train[0]"
   ]
  },
  {
   "cell_type": "markdown",
   "metadata": {},
   "source": [
    "We one-hot encode the lables using a Keras convenience function"
   ]
  },
  {
   "cell_type": "code",
   "execution_count": 7,
   "metadata": {
    "collapsed": true
   },
   "outputs": [],
   "source": [
    "from keras.utils.np_utils import to_categorical\n",
    "\n",
    "y_train = to_categorical(y_train,)\n",
    "y_val = to_categorical(y_val,)"
   ]
  },
  {
   "cell_type": "code",
   "execution_count": 38,
   "metadata": {
    "collapsed": true
   },
   "outputs": [],
   "source": [
    "from keras import models\n",
    "from keras import layers\n",
    "\n",
    "model = models.Sequential()\n",
    "model.add(layers.Dense(16, activation='relu', input_shape=(10000,)))\n",
    "#model.add(layers.Dropout(0.2))\n",
    "#model.add(layers.Dense(32, activation='relu'))\n",
    "#model.add(layers.Dropout(0.2))\n",
    "model.add(layers.Dense(5, activation='softmax')) "
   ]
  },
  {
   "cell_type": "code",
   "execution_count": 39,
   "metadata": {
    "collapsed": false
   },
   "outputs": [
    {
     "name": "stdout",
     "output_type": "stream",
     "text": [
      "_________________________________________________________________\n",
      "Layer (type)                 Output Shape              Param #   \n",
      "=================================================================\n",
      "dense_20 (Dense)             (None, 16)                160016    \n",
      "_________________________________________________________________\n",
      "dense_21 (Dense)             (None, 5)                 85        \n",
      "=================================================================\n",
      "Total params: 160,101\n",
      "Trainable params: 160,101\n",
      "Non-trainable params: 0\n",
      "_________________________________________________________________\n"
     ]
    }
   ],
   "source": [
    "model.summary()"
   ]
  },
  {
   "cell_type": "code",
   "execution_count": 40,
   "metadata": {
    "collapsed": true
   },
   "outputs": [],
   "source": [
    "model.compile(optimizer='rmsprop',loss='categorical_crossentropy',metrics=['accuracy'])"
   ]
  },
  {
   "cell_type": "code",
   "execution_count": 41,
   "metadata": {
    "collapsed": false
   },
   "outputs": [
    {
     "name": "stdout",
     "output_type": "stream",
     "text": [
      "Train on 4000 samples, validate on 1250 samples\n",
      "Epoch 1/20\n",
      "4000/4000 [==============================] - 1s 147us/step - loss: 1.3336 - acc: 0.6168 - val_loss: 1.2152 - val_acc: 0.5936\n",
      "Epoch 2/20\n",
      "4000/4000 [==============================] - 0s 88us/step - loss: 1.1144 - acc: 0.6362 - val_loss: 1.1489 - val_acc: 0.5936\n",
      "Epoch 3/20\n",
      "4000/4000 [==============================] - 0s 87us/step - loss: 1.0357 - acc: 0.6370 - val_loss: 1.1106 - val_acc: 0.5992\n",
      "Epoch 4/20\n",
      "4000/4000 [==============================] - 0s 87us/step - loss: 0.9660 - acc: 0.6445 - val_loss: 1.0764 - val_acc: 0.6136\n",
      "Epoch 5/20\n",
      "4000/4000 [==============================] - 0s 85us/step - loss: 0.8973 - acc: 0.6637 - val_loss: 1.0563 - val_acc: 0.6272\n",
      "Epoch 6/20\n",
      "4000/4000 [==============================] - 0s 85us/step - loss: 0.8343 - acc: 0.6827 - val_loss: 1.0336 - val_acc: 0.6272\n",
      "Epoch 7/20\n",
      "4000/4000 [==============================] - 0s 85us/step - loss: 0.7768 - acc: 0.7037 - val_loss: 1.0276 - val_acc: 0.6224\n",
      "Epoch 8/20\n",
      "4000/4000 [==============================] - 0s 85us/step - loss: 0.7225 - acc: 0.7318 - val_loss: 1.0295 - val_acc: 0.6200\n",
      "Epoch 9/20\n",
      "4000/4000 [==============================] - 0s 103us/step - loss: 0.6732 - acc: 0.7535 - val_loss: 1.0170 - val_acc: 0.6200\n",
      "Epoch 10/20\n",
      "4000/4000 [==============================] - 0s 111us/step - loss: 0.6282 - acc: 0.7698 - val_loss: 1.0364 - val_acc: 0.6248\n",
      "Epoch 11/20\n",
      "4000/4000 [==============================] - 0s 112us/step - loss: 0.5851 - acc: 0.8007 - val_loss: 1.0380 - val_acc: 0.6224\n",
      "Epoch 12/20\n",
      "4000/4000 [==============================] - 0s 112us/step - loss: 0.5465 - acc: 0.8180 - val_loss: 1.0369 - val_acc: 0.6176\n",
      "Epoch 13/20\n",
      "4000/4000 [==============================] - 0s 111us/step - loss: 0.5101 - acc: 0.8323 - val_loss: 1.0362 - val_acc: 0.6184\n",
      "Epoch 14/20\n",
      "4000/4000 [==============================] - 0s 112us/step - loss: 0.4758 - acc: 0.8468 - val_loss: 1.0524 - val_acc: 0.6080\n",
      "Epoch 15/20\n",
      "4000/4000 [==============================] - 0s 112us/step - loss: 0.4438 - acc: 0.8608 - val_loss: 1.0619 - val_acc: 0.6080\n",
      "Epoch 16/20\n",
      "4000/4000 [==============================] - 0s 112us/step - loss: 0.4144 - acc: 0.8715 - val_loss: 1.0775 - val_acc: 0.5944\n",
      "Epoch 17/20\n",
      "4000/4000 [==============================] - 0s 113us/step - loss: 0.3866 - acc: 0.8810 - val_loss: 1.0863 - val_acc: 0.5944\n",
      "Epoch 18/20\n",
      "4000/4000 [==============================] - 0s 112us/step - loss: 0.3615 - acc: 0.8890 - val_loss: 1.1096 - val_acc: 0.5872\n",
      "Epoch 19/20\n",
      "4000/4000 [==============================] - 0s 112us/step - loss: 0.3376 - acc: 0.8980 - val_loss: 1.1160 - val_acc: 0.5944\n",
      "Epoch 20/20\n",
      "4000/4000 [==============================] - 0s 111us/step - loss: 0.3160 - acc: 0.9055 - val_loss: 1.1257 - val_acc: 0.5968\n"
     ]
    }
   ],
   "source": [
    "history = model.fit(x_train,y_train,epochs = 20, batch_size=128,validation_data=(x_val,y_val))"
   ]
  },
  {
   "cell_type": "code",
   "execution_count": 42,
   "metadata": {
    "collapsed": false
   },
   "outputs": [
    {
     "data": {
      "image/png": "[encoded data removed]",
      "text/plain": [
       "<matplotlib.figure.Figure at 0x183f4aef60>"
      ]
     },
     "metadata": {},
     "output_type": "display_data"
    }
   ],
   "source": [
    "import matplotlib.pyplot as plt\n",
    "\n",
    "loss = history.history['loss']\n",
    "val_loss = history.history['val_loss']\n",
    "epochs = range(1, len(loss) + 1)\n",
    "\n",
    "acc = history.history['acc']\n",
    "val_acc = history.history['val_acc']\n",
    "\n",
    "plt.plot(epochs, acc, 'bo', label='Training acc')\n",
    "plt.plot(epochs, val_acc, 'b', label='Validation acc')\n",
    "plt.title('Training and validation accuracy')\n",
    "plt.xlabel('Epochs')\n",
    "plt.ylabel('Loss')\n",
    "plt.legend()\n",
    "\n",
    "plt.show()"
   ]
  },
  {
   "cell_type": "markdown",
   "metadata": {
    "collapsed": true
   },
   "source": [
    "Looks like we start over fitting around 6 epochs, reaching a maximum accuracy of 63%. This is not so good considering this is accuracy you would get if you just guessed a neutral sentiment(3) for every tweet.  \n"
   ]
  },
  {
   "cell_type": "markdown",
   "metadata": {},
   "source": [
    "## Casting as a binary classification problem\n",
    "\n",
    "One of the reasons this classification is challenging is that there are 5 classes, and the majority of the sentiments are neutral (i.e. 3). I am interested to see what the accuracy is like if we instead cast this as a binary classification problem. We will do this by throwing away all of the neutral reviews, setting the negative reviews to 0 and positive reviews to 1"
   ]
  },
  {
   "cell_type": "code",
   "execution_count": 45,
   "metadata": {
    "collapsed": false
   },
   "outputs": [
    {
     "name": "stdout",
     "output_type": "stream",
     "text": [
      "1963\n",
      "1963\n",
      "A sample tweet: The future! So buying one of these. ̢���@CNET: Audi is ready to test autonomous cars on public roads http://t.co/aZTbHLcy #CES #2013CES̢����\n",
      "Has sentiment: 1\n"
     ]
    }
   ],
   "source": [
    "labels = []\n",
    "texts = []\n",
    "for line in lines:\n",
    "    sent = int(line.split(',')[0])\n",
    "    tweet = line.split(',')[1]\n",
    "    if sent < 3:\n",
    "        texts.append(tweet)\n",
    "        labels.append(0)\n",
    "    if sent > 3:\n",
    "        texts.append(tweet)\n",
    "        labels.append(1)\n",
    "\n",
    "print(len(labels))\n",
    "print(len(texts))\n",
    "\n",
    "print(\"A sample tweet: \" + texts[6] )\n",
    "print(\"Has sentiment: \" + str(labels[6]))"
   ]
  },
  {
   "cell_type": "code",
   "execution_count": 53,
   "metadata": {
    "collapsed": false
   },
   "outputs": [
    {
     "name": "stdout",
     "output_type": "stream",
     "text": [
      "Found 5192 unique tokens.\n"
     ]
    }
   ],
   "source": [
    "from keras.preprocessing.text import Tokenizer\n",
    "import numpy as np\n",
    "\n",
    "maxlen = 20 # We cut the tweet after 20 words (most are shorter than this anyway)\n",
    "training_samples = 1400\n",
    "validation_samples = len(labels) - training_samples\n",
    "max_words = 10000\n",
    "\n",
    "tokenizer = Tokenizer(num_words=max_words)\n",
    "tokenizer.fit_on_texts(texts)\n",
    "sequences = tokenizer.texts_to_sequences(texts)\n",
    "\n",
    "word_index = tokenizer.word_index\n",
    "print('Found %s unique tokens.' % len(word_index))\n",
    "\n",
    "x_train = sequences[:training_samples]\n",
    "y_train = labels[:training_samples]\n",
    "\n",
    "x_val = sequences[training_samples: training_samples + validation_samples]\n",
    "y_val = labels[training_samples: training_samples + validation_samples]\n",
    "y_train[0]\n",
    "\n",
    "def vectorize_sequences(sequences, dimension=10000):\n",
    "    # Create an all-zero matrix of shape (len(sequences), dimension)\n",
    "    results = np.zeros((len(sequences), dimension))\n",
    "    for i, sequence in enumerate(sequences):\n",
    "        results[i, sequence] = 1  # set specific indices of results[i] to 1s\n",
    "    return results\n",
    "\n",
    "\n",
    "# Our vectorized training data\n",
    "x_train = vectorize_sequences(x_train)\n",
    "# Our vectorized test data\n",
    "x_val = vectorize_sequences(x_val)\n",
    "        "
   ]
  },
  {
   "cell_type": "code",
   "execution_count": 55,
   "metadata": {
    "collapsed": true
   },
   "outputs": [],
   "source": [
    "# Our vectorized labels\n",
    "y_train = np.asarray(y_train).astype('float32')\n",
    "y_test = np.asarray(y_val).astype('float32')"
   ]
  },
  {
   "cell_type": "code",
   "execution_count": 56,
   "metadata": {
    "collapsed": false
   },
   "outputs": [
    {
     "data": {
      "text/plain": [
       "1.0"
      ]
     },
     "execution_count": 56,
     "metadata": {},
     "output_type": "execute_result"
    }
   ],
   "source": [
    "y_train[0]"
   ]
  },
  {
   "cell_type": "code",
   "execution_count": 57,
   "metadata": {
    "collapsed": true
   },
   "outputs": [],
   "source": [
    "from keras import models\n",
    "from keras import layers\n",
    "\n",
    "model = models.Sequential()\n",
    "model.add(layers.Dense(16, activation='relu', input_shape=(10000,)))\n",
    "#model.add(layers.Dropout(0.2))\n",
    "#model.add(layers.Dense(32, activation='relu'))\n",
    "#model.add(layers.Dropout(0.2))\n",
    "model.add(layers.Dense(1, activation='sigmoid')) "
   ]
  },
  {
   "cell_type": "code",
   "execution_count": 58,
   "metadata": {
    "collapsed": false
   },
   "outputs": [
    {
     "name": "stdout",
     "output_type": "stream",
     "text": [
      "_________________________________________________________________\n",
      "Layer (type)                 Output Shape              Param #   \n",
      "=================================================================\n",
      "dense_24 (Dense)             (None, 16)                160016    \n",
      "_________________________________________________________________\n",
      "dense_25 (Dense)             (None, 1)                 17        \n",
      "=================================================================\n",
      "Total params: 160,033\n",
      "Trainable params: 160,033\n",
      "Non-trainable params: 0\n",
      "_________________________________________________________________\n"
     ]
    }
   ],
   "source": [
    "model.summary()"
   ]
  },
  {
   "cell_type": "code",
   "execution_count": 59,
   "metadata": {
    "collapsed": true
   },
   "outputs": [],
   "source": [
    "model.compile(optimizer='rmsprop',loss='binary_crossentropy',metrics=['accuracy'])"
   ]
  },
  {
   "cell_type": "code",
   "execution_count": 60,
   "metadata": {
    "collapsed": false
   },
   "outputs": [
    {
     "name": "stdout",
     "output_type": "stream",
     "text": [
      "Train on 1400 samples, validate on 563 samples\n",
      "Epoch 1/20\n",
      "1400/1400 [==============================] - 1s 366us/step - loss: 0.6695 - acc: 0.6557 - val_loss: 0.6387 - val_acc: 0.7531\n",
      "Epoch 2/20\n",
      "1400/1400 [==============================] - 0s 120us/step - loss: 0.6235 - acc: 0.7114 - val_loss: 0.6118 - val_acc: 0.7513\n",
      "Epoch 3/20\n",
      "1400/1400 [==============================] - 0s 114us/step - loss: 0.5894 - acc: 0.7121 - val_loss: 0.5921 - val_acc: 0.7513\n",
      "Epoch 4/20\n",
      "1400/1400 [==============================] - 0s 125us/step - loss: 0.5578 - acc: 0.7243 - val_loss: 0.5777 - val_acc: 0.7513\n",
      "Epoch 5/20\n",
      "1400/1400 [==============================] - 0s 119us/step - loss: 0.5271 - acc: 0.7486 - val_loss: 0.5663 - val_acc: 0.7531\n",
      "Epoch 6/20\n",
      "1400/1400 [==============================] - 0s 115us/step - loss: 0.4969 - acc: 0.7807 - val_loss: 0.5575 - val_acc: 0.7531\n",
      "Epoch 7/20\n",
      "1400/1400 [==============================] - 0s 115us/step - loss: 0.4670 - acc: 0.8014 - val_loss: 0.5522 - val_acc: 0.7584\n",
      "Epoch 8/20\n",
      "1400/1400 [==============================] - 0s 117us/step - loss: 0.4379 - acc: 0.8357 - val_loss: 0.5448 - val_acc: 0.7584\n",
      "Epoch 9/20\n",
      "1400/1400 [==============================] - 0s 114us/step - loss: 0.4102 - acc: 0.8457 - val_loss: 0.5438 - val_acc: 0.7602\n",
      "Epoch 10/20\n",
      "1400/1400 [==============================] - 0s 113us/step - loss: 0.3840 - acc: 0.8643 - val_loss: 0.5437 - val_acc: 0.7478\n",
      "Epoch 11/20\n",
      "1400/1400 [==============================] - 0s 115us/step - loss: 0.3590 - acc: 0.8836 - val_loss: 0.5405 - val_acc: 0.7460\n",
      "Epoch 12/20\n",
      "1400/1400 [==============================] - 0s 115us/step - loss: 0.3359 - acc: 0.8950 - val_loss: 0.5398 - val_acc: 0.7478\n",
      "Epoch 13/20\n",
      "1400/1400 [==============================] - 0s 115us/step - loss: 0.3142 - acc: 0.9057 - val_loss: 0.5421 - val_acc: 0.7496\n",
      "Epoch 14/20\n",
      "1400/1400 [==============================] - 0s 115us/step - loss: 0.2939 - acc: 0.9193 - val_loss: 0.5431 - val_acc: 0.7513\n",
      "Epoch 15/20\n",
      "1400/1400 [==============================] - 0s 115us/step - loss: 0.2756 - acc: 0.9257 - val_loss: 0.5441 - val_acc: 0.7460\n",
      "Epoch 16/20\n",
      "1400/1400 [==============================] - 0s 114us/step - loss: 0.2577 - acc: 0.9393 - val_loss: 0.5455 - val_acc: 0.7389\n",
      "Epoch 17/20\n",
      "1400/1400 [==============================] - 0s 116us/step - loss: 0.2415 - acc: 0.9450 - val_loss: 0.5439 - val_acc: 0.7371\n",
      "Epoch 18/20\n",
      "1400/1400 [==============================] - 0s 117us/step - loss: 0.2264 - acc: 0.9471 - val_loss: 0.5493 - val_acc: 0.7336\n",
      "Epoch 19/20\n",
      "1400/1400 [==============================] - 0s 132us/step - loss: 0.2122 - acc: 0.9543 - val_loss: 0.5541 - val_acc: 0.7318\n",
      "Epoch 20/20\n",
      "1400/1400 [==============================] - 0s 117us/step - loss: 0.1988 - acc: 0.9593 - val_loss: 0.5542 - val_acc: 0.7336\n"
     ]
    }
   ],
   "source": [
    "history = model.fit(x_train,y_train,epochs = 20, batch_size=128,validation_data=(x_val,y_val))"
   ]
  },
  {
   "cell_type": "code",
   "execution_count": null,
   "metadata": {
    "collapsed": true
   },
   "outputs": [],
   "source": [
    "import matplotlib.pyplot as plt\n",
    "\n",
    "loss = history.history['loss']\n",
    "val_loss = history.history['val_loss']\n",
    "epochs = range(1, len(loss) + 1)\n",
    "\n",
    "acc = history.history['acc']\n",
    "val_acc = history.history['val_acc']\n",
    "\n",
    "plt.plot(epochs, acc, 'bo', label='Training acc')\n",
    "plt.plot(epochs, val_acc, 'b', label='Validation acc')\n",
    "plt.title('Training and validation accuracy')\n",
    "plt.xlabel('Epochs')\n",
    "plt.ylabel('Loss')\n",
    "plt.legend()\n",
    "\n",
    "plt.show()"
   ]
  },
  {
   "cell_type": "markdown",
   "metadata": {},
   "source": [
    "This gets us to a max accuracy of around 76%. However, considering this dataset isn't balanced (about 72% are positive and 28% negative), we are actually only doing slightly better than if we had just guesed positive for all of the reviews. One plausible explanation here is that their just isn't much training data. "
   ]
  },
  {
   "cell_type": "code",
   "execution_count": null,
   "metadata": {
    "collapsed": true
   },
   "outputs": [],
   "source": []
  }
 ],
 "metadata": {
  "kernelspec": {
   "display_name": "Python 3",
   "language": "python",
   "name": "python3"
  },
  "language_info": {
   "codemirror_mode": {
    "name": "ipython",
    "version": 3
   },
   "file_extension": ".py",
   "mimetype": "text/x-python",
   "name": "python",
   "nbconvert_exporter": "python",
   "pygments_lexer": "ipython3",
   "version": "3.5.4"
  }
 },
 "nbformat": 4,
 "nbformat_minor": 2
}
