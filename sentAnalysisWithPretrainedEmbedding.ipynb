{
 "cells": [
  {
   "cell_type": "markdown",
   "metadata": {},
   "source": [
    "## Twitter sentiment analysis with pretrained embedding\n",
    "\n",
    "In this notebook we will analyze the same dataset as in the sentAnalysis.ipynb notebook, except this time using a pretrained embedding from the GloVe model."
   ]
  },
  {
   "cell_type": "code",
   "execution_count": 1,
   "metadata": {
    "collapsed": false
   },
   "outputs": [
    {
     "name": "stderr",
     "output_type": "stream",
     "text": [
      "Using TensorFlow backend.\n"
     ]
    },
    {
     "data": {
      "text/plain": [
       "'2.1.2'"
      ]
     },
     "execution_count": 1,
     "metadata": {},
     "output_type": "execute_result"
    }
   ],
   "source": [
    "import keras\n",
    "keras.__version__"
   ]
  },
  {
   "cell_type": "code",
   "execution_count": 2,
   "metadata": {
    "collapsed": false
   },
   "outputs": [
    {
     "name": "stdout",
     "output_type": "stream",
     "text": [
      "['sentiment', 'text']\n",
      "5250\n",
      "[76, 473, 3287, 1062, 352]\n",
      "5250\n",
      "5250\n",
      "A sample tweet: Autonomous vehicles could reduce traffic fatalities by 90%...I'm in!\n",
      "Has sentiment: 4\n"
     ]
    }
   ],
   "source": [
    "import os\n",
    "\n",
    "home_dir = os.getcwd()\n",
    "fname = os.path.join(home_dir,'data/train_data.csv')\n",
    "\n",
    "f = open(fname)\n",
    "data = f.read()\n",
    "f.close()\n",
    "\n",
    "lines = data.split('\\n')\n",
    "header = lines[0].split(',')\n",
    "lines = lines[1:]\n",
    "lines = lines[:-1]\n",
    "\n",
    "sents = [0,0,0,0,0]\n",
    "labels = []\n",
    "texts = []\n",
    "for line in lines:\n",
    "    sent = int(line.split(',')[0])\n",
    "    tweet = line.split(',')[1]\n",
    "    sents[sent -1] +=1\n",
    "    texts.append(tweet)\n",
    "    labels.append(sent-1) # data is labeled 1-5; we shift by 1 so it starts with 0\n",
    " \n",
    "print(header)\n",
    "print(sents)\n",
    "print(len(labels))\n",
    "print(len(texts))\n",
    "\n",
    "print(\"A sample tweet: \" + texts[6] )\n",
    "print(\"Has sentiment: \" + str(labels[6]))"
   ]
  },
  {
   "cell_type": "markdown",
   "metadata": {},
   "source": [
    "## Tokenize the data\n"
   ]
  },
  {
   "cell_type": "code",
   "execution_count": 45,
   "metadata": {
    "collapsed": false
   },
   "outputs": [
    {
     "name": "stdout",
     "output_type": "stream",
     "text": [
      "Found 10982 unique tokens.\n",
      "Shape of data tensor: (5250, 20)\n",
      "Shape of label tensor: (5250,)\n"
     ]
    }
   ],
   "source": [
    "from keras.preprocessing.text import Tokenizer\n",
    "from keras.preprocessing.sequence import pad_sequences\n",
    "import numpy as np\n",
    "\n",
    "maxlen = 20 # We cut the tweet after 20 words (most are shorter than this anyway)\n",
    "training_samples = 4000\n",
    "validation_samples = len(labels) - training_samples\n",
    "max_words = 10000\n",
    "\n",
    "tokenizer = Tokenizer(num_words=max_words)\n",
    "tokenizer.fit_on_texts(texts)\n",
    "sequences = tokenizer.texts_to_sequences(texts)\n",
    "\n",
    "word_index = tokenizer.word_index\n",
    "print('Found %s unique tokens.' % len(word_index))\n",
    "\n",
    "data = pad_sequences(sequences, maxlen=maxlen)\n",
    "\n",
    "labels = np.asarray(labels)\n",
    "print('Shape of data tensor:', data.shape)\n",
    "print('Shape of label tensor:', labels.shape)\n",
    "\n",
    "# Split the data into a training set and a validation set\n",
    "# But first, shuffle the data, since we started from data\n",
    "# where sample are ordered (all negative first, then all positive).\n",
    "indices = np.arange(data.shape[0])\n",
    "np.random.shuffle(indices)\n",
    "data = data[indices]\n",
    "labels = labels[indices]\n",
    "\n",
    "x_train = data[:training_samples]\n",
    "y_train = labels[:training_samples]\n",
    "x_val = data[training_samples: training_samples + validation_samples]\n",
    "y_val = labels[training_samples: training_samples + validation_samples]"
   ]
  },
  {
   "cell_type": "code",
   "execution_count": 46,
   "metadata": {
    "collapsed": false
   },
   "outputs": [
    {
     "data": {
      "text/plain": [
       "4"
      ]
     },
     "execution_count": 46,
     "metadata": {},
     "output_type": "execute_result"
    }
   ],
   "source": [
    "y_train[0]"
   ]
  },
  {
   "cell_type": "code",
   "execution_count": 47,
   "metadata": {
    "collapsed": true
   },
   "outputs": [],
   "source": [
    "#one-hot encode the labels\n",
    "from keras.utils.np_utils import to_categorical\n",
    "\n",
    "y_train = to_categorical(y_train,num_classes=5)\n",
    "y_val = to_categorical(y_val,num_classes=5)"
   ]
  },
  {
   "cell_type": "code",
   "execution_count": 48,
   "metadata": {
    "collapsed": false
   },
   "outputs": [
    {
     "data": {
      "text/plain": [
       "array([ 0.,  0.,  0.,  0.,  1.])"
      ]
     },
     "execution_count": 48,
     "metadata": {},
     "output_type": "execute_result"
    }
   ],
   "source": [
    "y_train[0]"
   ]
  },
  {
   "cell_type": "markdown",
   "metadata": {},
   "source": [
    "### GloVe Embedding\n",
    "\n",
    "Embedding can be downloaded from `https://nlp.stanford.edu/projects/glove/`. Its the 822 MB file named `glove.6B.zip`"
   ]
  },
  {
   "cell_type": "code",
   "execution_count": 4,
   "metadata": {
    "collapsed": false
   },
   "outputs": [
    {
     "name": "stdout",
     "output_type": "stream",
     "text": [
      "Found 400000 word vectors.\n"
     ]
    }
   ],
   "source": [
    "glove_dir = '/Users/chrisheinrich/ml/nlp/embeddings/glove'\n",
    "\n",
    "embeddings_index = {}\n",
    "f = open(os.path.join(glove_dir, 'glove.6B.100d.txt'))\n",
    "for line in f:\n",
    "    values = line.split()\n",
    "    word = values[0]\n",
    "    coefs = np.asarray(values[1:], dtype='float32')\n",
    "    embeddings_index[word] = coefs\n",
    "f.close()\n",
    "\n",
    "print('Found %s word vectors.' % len(embeddings_index))"
   ]
  },
  {
   "cell_type": "markdown",
   "metadata": {},
   "source": [
    "Now we will build an embedding matrix that we can load into an `Embedding` layer. It must e a matrix of shape `(max_words, embedding_dim)`, where each entry `i` contains the vector for the word of index `i` in our reference word index (built during tokenization). The index `0` is only a placeholder"
   ]
  },
  {
   "cell_type": "code",
   "execution_count": 49,
   "metadata": {
    "collapsed": true
   },
   "outputs": [],
   "source": [
    "embedding_dim = 100\n",
    "\n",
    "embedding_matrix = np.zeros((max_words, embedding_dim))\n",
    "for word, i in word_index.items():\n",
    "    embedding_vector = embeddings_index.get(word)\n",
    "    if i < max_words:\n",
    "        if embedding_vector is not None:\n",
    "            embedding_matrix[i] = embedding_vector\n",
    "    "
   ]
  },
  {
   "cell_type": "markdown",
   "metadata": {},
   "source": [
    "### Define a model"
   ]
  },
  {
   "cell_type": "code",
   "execution_count": 50,
   "metadata": {
    "collapsed": false
   },
   "outputs": [
    {
     "name": "stdout",
     "output_type": "stream",
     "text": [
      "_________________________________________________________________\n",
      "Layer (type)                 Output Shape              Param #   \n",
      "=================================================================\n",
      "embedding_7 (Embedding)      (None, 20, 100)           1000000   \n",
      "_________________________________________________________________\n",
      "flatten_7 (Flatten)          (None, 2000)              0         \n",
      "_________________________________________________________________\n",
      "dense_13 (Dense)             (None, 32)                64032     \n",
      "_________________________________________________________________\n",
      "dense_14 (Dense)             (None, 5)                 165       \n",
      "=================================================================\n",
      "Total params: 1,064,197\n",
      "Trainable params: 1,064,197\n",
      "Non-trainable params: 0\n",
      "_________________________________________________________________\n"
     ]
    }
   ],
   "source": [
    "from keras.models import Sequential\n",
    "from keras.layers import Embedding, Flatten, Dense\n",
    "\n",
    "model = Sequential()\n",
    "model.add(Embedding(max_words, embedding_dim, input_length=maxlen))\n",
    "model.add(Flatten())\n",
    "model.add(Dense(32, activation='relu'))\n",
    "model.add(Dense(5, activation='softmax'))\n",
    "model.summary()"
   ]
  },
  {
   "cell_type": "markdown",
   "metadata": {},
   "source": [
    "### Load the GloVe embeddings in the model"
   ]
  },
  {
   "cell_type": "code",
   "execution_count": 51,
   "metadata": {
    "collapsed": true
   },
   "outputs": [],
   "source": [
    "model.layers[0].set_weights = ([embedding_matrix])\n",
    "model.layers[0].trainable = False"
   ]
  },
  {
   "cell_type": "code",
   "execution_count": 52,
   "metadata": {
    "collapsed": false
   },
   "outputs": [],
   "source": [
    "model.compile(optimizer='rmsprop',loss='categorical_crossentropy', metrics=['acc'])\n"
   ]
  },
  {
   "cell_type": "code",
   "execution_count": 53,
   "metadata": {
    "collapsed": false
   },
   "outputs": [
    {
     "name": "stdout",
     "output_type": "stream",
     "text": [
      "Train on 4500 samples, validate on 750 samples\n",
      "Epoch 1/10\n",
      "4500/4500 [==============================] - 1s 117us/step - loss: 1.1783 - acc: 0.6204 - val_loss: 1.1270 - val_acc: 0.6240\n",
      "Epoch 2/10\n",
      "4500/4500 [==============================] - 0s 52us/step - loss: 1.0857 - acc: 0.6264 - val_loss: 1.0975 - val_acc: 0.6240\n",
      "Epoch 3/10\n",
      "4500/4500 [==============================] - 0s 53us/step - loss: 1.0514 - acc: 0.6264 - val_loss: 1.0895 - val_acc: 0.6240\n",
      "Epoch 4/10\n",
      "4500/4500 [==============================] - 0s 51us/step - loss: 1.0226 - acc: 0.6271 - val_loss: 1.0897 - val_acc: 0.6240\n",
      "Epoch 5/10\n",
      "4500/4500 [==============================] - 0s 53us/step - loss: 0.9904 - acc: 0.6298 - val_loss: 1.0951 - val_acc: 0.6227\n",
      "Epoch 6/10\n",
      "4500/4500 [==============================] - 0s 53us/step - loss: 0.9573 - acc: 0.6382 - val_loss: 1.0971 - val_acc: 0.6240\n",
      "Epoch 7/10\n",
      "4500/4500 [==============================] - 0s 52us/step - loss: 0.9225 - acc: 0.6493 - val_loss: 1.1051 - val_acc: 0.6200\n",
      "Epoch 8/10\n",
      "4500/4500 [==============================] - 0s 51us/step - loss: 0.8870 - acc: 0.6656 - val_loss: 1.1214 - val_acc: 0.6147\n",
      "Epoch 9/10\n",
      "4500/4500 [==============================] - 0s 51us/step - loss: 0.8521 - acc: 0.6824 - val_loss: 1.1237 - val_acc: 0.6040\n",
      "Epoch 10/10\n",
      "4500/4500 [==============================] - 0s 52us/step - loss: 0.8169 - acc: 0.6971 - val_loss: 1.1357 - val_acc: 0.6093\n"
     ]
    }
   ],
   "source": [
    "history = model.fit(x_train,\n",
    "                    y_train,\n",
    "                    epochs=10,\n",
    "                    batch_size=32,\n",
    "                    validation_data=(x_val,y_val))"
   ]
  },
  {
   "cell_type": "markdown",
   "metadata": {},
   "source": [
    "The performance is comparable to what we obtained without using a pre-trained word embedding. It seems that there is just not enough data to learn a language model that is able t"
   ]
  }
 ],
 "metadata": {
  "kernelspec": {
   "display_name": "Python 3",
   "language": "python",
   "name": "python3"
  },
  "language_info": {
   "codemirror_mode": {
    "name": "ipython",
    "version": 3
   },
   "file_extension": ".py",
   "mimetype": "text/x-python",
   "name": "python",
   "nbconvert_exporter": "python",
   "pygments_lexer": "ipython3",
   "version": "3.5.4"
  }
 },
 "nbformat": 4,
 "nbformat_minor": 0
}
